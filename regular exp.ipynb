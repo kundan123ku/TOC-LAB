{
 "cells": [
  {
   "cell_type": "markdown",
   "metadata": {},
   "source": [
    "regular expressons"
   ]
  },
  {
   "cell_type": "code",
   "execution_count": null,
   "metadata": {},
   "outputs": [],
   "source": [
    "import re\n",
    "str=\"001100\"\n",
    "x=re.search(\"[0-1]*00$\",str)\n",
    "if(x):\n",
    "    print(\"String valid\")\n",
    "else:\n",
    "    print(\"String invalid\")"
   ]
  },
  {
   "cell_type": "code",
   "execution_count": null,
   "metadata": {},
   "outputs": [],
   "source": [
    "Language containing 'a' at third last position"
   ]
  },
  {
   "cell_type": "code",
   "execution_count": null,
   "metadata": {},
   "outputs": [],
   "source": [
    "import re\n",
    "str=\"babb\"\n",
    "x=re.search(\"[a-b]*a[a-b][a-b]\",str)\n",
    "if(x):\n",
    "    print(\"String valid\")\n",
    "else:\n",
    "    print(\"String invalid\")"
   ]
  },
  {
   "cell_type": "code",
   "execution_count": null,
   "metadata": {},
   "outputs": [],
   "source": [
    "Language conatining atleast one 'a"
   ]
  },
  {
   "cell_type": "code",
   "execution_count": null,
   "metadata": {},
   "outputs": [],
   "source": [
    "import re\n",
    "str=\"babb\"\n",
    "x=re.search(\"[a-b]*a[a-b]*\",str)\n",
    "if(x):\n",
    "    print(\"String valid\")\n",
    "else:\n",
    "    print(\"String invalid\")"
   ]
  },
  {
   "cell_type": "code",
   "execution_count": null,
   "metadata": {},
   "outputs": [],
   "source": [
    "Language containing substring 'aba'would be accepted"
   ]
  },
  {
   "cell_type": "code",
   "execution_count": null,
   "metadata": {},
   "outputs": [],
   "source": [
    "import re\n",
    "str=\"babaaba\"\n",
    "x=re.search(\"[a-b]*aba[a-b]*\",str)\n",
    "if(x):\n",
    "    print(\" valid \")\n",
    "else:\n",
    "    print(\" invalid \")"
   ]
  }
 ],
 "metadata": {
  "kernelspec": {
   "display_name": "Python 3",
   "language": "python",
   "name": "python3"
  },
  "language_info": {
   "codemirror_mode": {
    "name": "ipython",
    "version": 3
   },
   "file_extension": ".py",
   "mimetype": "text/x-python",
   "name": "python",
   "nbconvert_exporter": "python",
   "pygments_lexer": "ipython3",
   "version": "3.7.3"
  }
 },
 "nbformat": 4,
 "nbformat_minor": 4
}
