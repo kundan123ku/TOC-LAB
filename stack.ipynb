{
 "cells": [
  {
   "cell_type": "code",
   "execution_count": null,
   "metadata": {},
   "outputs": [],
   "source": [
    "STACK\n"
   ]
  },
  {
   "cell_type": "code",
   "execution_count": null,
   "metadata": {},
   "outputs": [],
   "source": [
    "\n",
    "\n",
    "class Stack:\n",
    "    def __init__(self):\n",
    "        self.items=[]\n",
    "    def push(self,item):\n",
    "        self.items.append(item)\n",
    "    def pop(self):\n",
    "        self.items.pop()\n",
    "    def isempty(self):\n",
    "        return self.items==[]\n",
    "    def size(self):\n",
    "        return len(self.items)\n",
    "    def show(self):\n",
    "        print(self.items)\n",
    "s= Stack()\n",
    "s.push(input(\"enter the element to be inserted\"))\n",
    "s.push(input(\"enter the element to be inserted\"))\n",
    "s.show()\n",
    "s.push(input(\"enter the element to be inserted\"))\n",
    "s.show()\n",
    "s.pop()\n",
    "print(s.isempty())\n",
    "s.show()\n",
    "print(s.size())"
   ]
  },
  {
   "cell_type": "code",
   "execution_count": null,
   "metadata": {},
   "outputs": [],
   "source": [
    "parenthesis\n"
   ]
  },
  {
   "cell_type": "code",
   "execution_count": null,
   "metadata": {},
   "outputs": [],
   "source": [
    "open_list = [\"[\",\"{\",\"(\"] \n",
    "close_list = [\"]\",\"}\",\")\"] \n",
    "\n",
    "def check(myStr): \n",
    "    stack = [] \n",
    "    for i in myStr: \n",
    "        if i in open_list: \n",
    "            stack.append(i) \n",
    "        elif i in close_list: \n",
    "            pos = close_list.index(i) \n",
    "            if ((len(stack) > 0) and\n",
    "                (open_list[pos] == stack[len(stack)-1])): \n",
    "                stack.pop() \n",
    "            else: \n",
    "                return \"Unbalanced\"\n",
    "    if len(stack) == 0: \n",
    "        return \"Balanced\"\n",
    "string = \"{[]{()}}\"\n",
    "print(string,\"-\", check(string)) \n",
    "  \n",
    "string = \"[{}{})(]\"\n",
    "print(string,\"-\", check(string)) "
   ]
  }
 ],
 "metadata": {
  "kernelspec": {
   "display_name": "Python 3",
   "language": "python",
   "name": "python3"
  },
  "language_info": {
   "codemirror_mode": {
    "name": "ipython",
    "version": 3
   },
   "file_extension": ".py",
   "mimetype": "text/x-python",
   "name": "python",
   "nbconvert_exporter": "python",
   "pygments_lexer": "ipython3",
   "version": "3.7.3"
  }
 },
 "nbformat": 4,
 "nbformat_minor": 4
}
